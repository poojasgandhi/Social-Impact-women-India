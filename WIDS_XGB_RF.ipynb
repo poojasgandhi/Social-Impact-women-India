{
 "cells": [
  {
   "cell_type": "code",
   "execution_count": null,
   "metadata": {},
   "outputs": [],
   "source": [
    "import pandas as pd\n",
    "import numpy as np\n",
    "\n",
    "from sklearn.ensemble import GradientBoostingClassifier  #GBM algorithm\n",
    "from sklearn import cross_validation, metrics   #Additional scklearn functions\n",
    "from sklearn.grid_search import GridSearchCV   #Perforing grid search\n",
    "\n",
    "import xgboost as xgb\n",
    "from xgboost.sklearn import XGBClassifier\n",
    "from sklearn.metrics import accuracy_score\n",
    "\n",
    "import matplotlib.pylab as plt\n",
    "%matplotlib inline\n",
    "from matplotlib.pylab import rcParams\n",
    "rcParams['figure.figsize'] = 12, 4\n",
    "\n",
    "pd.options.display.max_rows = 999\n",
    "pd.options.display.max_columns = None"
   ]
  },
  {
   "cell_type": "markdown",
   "metadata": {},
   "source": [
    "# <font color = 'red'> Taking all columns - XGB </font>"
   ]
  },
  {
   "cell_type": "markdown",
   "metadata": {},
   "source": [
    "### Base model"
   ]
  },
  {
   "cell_type": "code",
   "execution_count": null,
   "metadata": {},
   "outputs": [],
   "source": [
    "target = 'is_female'\n",
    "notuse_list = ['AA17', 'RI5_1','RI5_2','RI5_3','train_id', 'test_id']\n",
    "predictors = [x for x in dtrain3.columns if x not in [target, notuse_list]]\n",
    "xgb0 = XGBClassifier()\n",
    "xgb0.fit(dtrain3[predictors], dtrain3[target])"
   ]
  },
  {
   "cell_type": "code",
   "execution_count": null,
   "metadata": {},
   "outputs": [],
   "source": [
    "predictors_test =[x for x in dtest3.columns if x not in [target, notuse_list]]\n",
    "xgb0_pred = xgb0.predict(dtest3[predictors_test])\n",
    "xgb0_1 = pd.DataFrame()\n",
    "xgb0_1['is_female'] = pd.Series(xgb0_pred).values\n",
    "xgb0_1.to_csv(\"submission_xgb0.csv\",header = ['is_female'], index = True, index_label = 'test_id')"
   ]
  },
  {
   "cell_type": "code",
   "execution_count": null,
   "metadata": {},
   "outputs": [],
   "source": [
    "def modelfit_xgb(alg, dtrain, predictors, dtest, predictors_test, useTrainCV=True, cv_folds=5, early_stopping_rounds=50):\n",
    "    \n",
    "    if useTrainCV:\n",
    "        xgb_param = alg.get_xgb_params()\n",
    "        xgtrain = xgb.DMatrix(dtrain[predictors].values, label=dtrain[target].values)\n",
    "        cvresult = xgb.cv(xgb_param, xgtrain, num_boost_round=alg.get_params()['n_estimators'], nfold=cv_folds,\n",
    "            metrics=['auc'], early_stopping_rounds=early_stopping_rounds)\n",
    "        alg.set_params(n_estimators=cvresult.shape[0])\n",
    "    \n",
    "    #Fit the algorithm on the data\n",
    "    alg.fit(dtrain[predictors], dtrain[target],eval_metric=['auc'])\n",
    "        \n",
    "    #Predict training set:\n",
    "    dtrain_predictions = alg.predict(dtrain[predictors])\n",
    "    dtrain_predprob = alg.predict_proba(dtrain[predictors])[:,1]\n",
    "        \n",
    "    #Print model report:\n",
    "    print (\"\\nModel Report\")\n",
    "    print (\"Accuracy : %.4g\" % metrics.accuracy_score(dtrain[target].values, dtrain_predictions))\n",
    "    print (\"AUC Score (Train): %f\" % metrics.roc_auc_score(dtrain[target], dtrain_predprob))\n",
    "                    \n",
    "#     feat_imp = pd.Series(alg.booster().get_fscore()).sort_values(ascending=False)\n",
    "#     feat_imp.plot(kind='bar', title='Feature Importances')\n",
    "#     plt.ylabel('Feature Importance Score')\n",
    "    \n",
    "    test_predprob = pd.DataFrame(alg.predict(dtest[predictors_test]))\n",
    "\n",
    "    return test_predprob"
   ]
  },
  {
   "cell_type": "code",
   "execution_count": null,
   "metadata": {},
   "outputs": [],
   "source": [
    "target = 'is_female'\n",
    "notuse_list = ['AA17', 'RI5_1','RI5_2','RI5_3','train_id', 'test_id']\n",
    "predictors = [x for x in dtrain3.columns if x not in [target, notuse_list]]\n",
    "predictors_test =[x for x in dtest3.columns if x not in [target, notuse_list]]\n",
    "xgb1 = XGBClassifier(learning_rate =0.1,\n",
    "                     n_estimators=1000,\n",
    "                     max_depth=5,\n",
    "                     min_child_weight=1,\n",
    "                     gamma=0,\n",
    "                     subsample=0.8,\n",
    "                     colsample_bytree=0.8,\n",
    "                     objective= 'binary:logistic',\n",
    "                     nthread=4,\n",
    "                     scale_pos_weight=1,\n",
    "                     seed=27)\n",
    "xgb1_ans = modelfit_xgb(xgb1, dtrain3, predictors, dtest3, predictors_test )"
   ]
  },
  {
   "cell_type": "code",
   "execution_count": null,
   "metadata": {},
   "outputs": [],
   "source": [
    "xgb1_ans.to_csv(\"submission_xgb1.csv\",header = ['is_female'], index = True, index_label = 'test_id')"
   ]
  },
  {
   "cell_type": "markdown",
   "metadata": {},
   "source": [
    "# <font color = 'red'> Taking all columns - Random Forest </font>"
   ]
  },
  {
   "cell_type": "code",
   "execution_count": null,
   "metadata": {},
   "outputs": [],
   "source": [
    "target = 'is_female'\n",
    "notuse_list = ['AA17', 'RI5_1','RI5_2','RI5_3','train_id', 'test_id']\n",
    "predictors = [x for x in dtrain3.columns if x not in [target, notuse_list]]\n",
    "rf1 = RandomForestClassifier(n_estimators=Ntree,random_state=1234)\n",
    "rf1.fit(dtrain3[predictors], dtrain3[target])"
   ]
  },
  {
   "cell_type": "code",
   "execution_count": null,
   "metadata": {},
   "outputs": [],
   "source": [
    "rf_ans = rf1.predict(dtest3[predictors_test])\n",
    "rf_cm = confusion_matrix(dtest3[predictors_test], rf_ans)\n",
    "\n",
    "rf_prob = rf1.predict_proba(dtest3[predictors_test])\n",
    "metrics.roc_auc_score(dtest3[predictors_test], rf_prob[:,1])"
   ]
  }
 ],
 "metadata": {
  "kernelspec": {
   "display_name": "Python 3",
   "language": "python",
   "name": "python3"
  },
  "language_info": {
   "codemirror_mode": {
    "name": "ipython",
    "version": 3
   },
   "file_extension": ".py",
   "mimetype": "text/x-python",
   "name": "python",
   "nbconvert_exporter": "python",
   "pygments_lexer": "ipython3",
   "version": "3.6.6"
  }
 },
 "nbformat": 4,
 "nbformat_minor": 2
}
